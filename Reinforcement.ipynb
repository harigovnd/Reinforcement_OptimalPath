{
 "cells": [
  {
   "cell_type": "code",
   "execution_count": 131,
   "id": "13a549d9",
   "metadata": {
    "scrolled": false
   },
   "outputs": [
    {
     "data": {
      "image/png": "[encoded data removed]",
      "text/plain": [
       "<Figure size 432x288 with 1 Axes>"
      ]
     },
     "metadata": {},
     "output_type": "display_data"
    }
   ],
   "source": [
    "import numpy as np\n",
    "import pylab as plt\n",
    "import networkx as nx\n",
    "dict1={'Kochi':0,'Ahemedabad':1,'Mumbai':2,'Bengaluru':3,'Punjab':4,'Delhi':5,'Chennai':6,'Hyderabad':7,'Kolkata':8}\n",
    "#Initializing points\n",
    "points_list = [(0,3), (1,5), (5,1), (5,4), (1,2), (2,3), (2,7), (3,6), (5,8)]\n",
    " \n",
    "goal = 7\n",
    "mapping={0:'Kochi', 1:'Ahemedabad', 2:'Mumbai', 3:'Bengaluru', 4:'Punjab', 5:'Delhi', 6:'Chennai', 7:'Hyderabad',8:'Kolkata'}\n",
    "G=nx.Graph()\n",
    "G.add_edges_from(points_list)\n",
    "G = nx.relabel_nodes(G, mapping)\n",
    "pos = nx.spring_layout(G,k=.5,center=points_list[2])\n",
    "nx.draw_networkx_nodes(G,pos,node_color='g',node_shape='')\n",
    "nx.draw_networkx_edges(G,pos,edge_color='b')\n",
    "nx.draw_networkx_labels(G,pos)\n",
    "\n",
    "plt.show()\n"
   ]
  },
  {
   "cell_type": "code",
   "execution_count": 119,
   "id": "795851cd",
   "metadata": {},
   "outputs": [
    {
     "name": "stdout",
     "output_type": "stream",
     "text": [
      "(0, 3)\n",
      "(1, 5)\n",
      "(5, 1)\n",
      "(5, 4)\n",
      "(1, 2)\n",
      "(2, 3)\n",
      "(2, 7)\n",
      "(3, 6)\n",
      "(5, 8)\n"
     ]
    }
   ],
   "source": [
    "NO_OF_POINTS = 9\n",
    " \n",
    "#Inititlaizing R Matrix\n",
    "R = np.matrix(np.ones(shape=(NO_OF_POINTS, NO_OF_POINTS)))\n",
    "R *= -1\n",
    " \n",
    "for point in points_list:\n",
    "    print(point)\n",
    "    if point[1] == goal:\n",
    "        R[point] = 150\n",
    "    else:\n",
    "        R[point] = 0\n",
    " \n",
    "    if point[0] == goal:\n",
    "        R[point[::-1]] = 150\n",
    "    else:\n",
    "        # reverse of point\n",
    "        R[point[::-1]]= 0"
   ]
  },
  {
   "cell_type": "code",
   "execution_count": 120,
   "id": "70da405c",
   "metadata": {},
   "outputs": [
    {
     "data": {
      "text/plain": [
       "matrix([[ -1.,  -1.,  -1.,   0.,  -1.,  -1.,  -1.,  -1.,  -1.],\n",
       "        [ -1.,  -1.,   0.,  -1.,  -1.,   0.,  -1.,  -1.,  -1.],\n",
       "        [ -1.,   0.,  -1.,   0.,  -1.,  -1.,  -1., 150.,  -1.],\n",
       "        [  0.,  -1.,   0.,  -1.,  -1.,  -1.,   0.,  -1.,  -1.],\n",
       "        [ -1.,  -1.,  -1.,  -1.,  -1.,   0.,  -1.,  -1.,  -1.],\n",
       "        [ -1.,   0.,  -1.,  -1.,   0.,  -1.,  -1.,  -1.,   0.],\n",
       "        [ -1.,  -1.,  -1.,   0.,  -1.,  -1.,  -1.,  -1.,  -1.],\n",
       "        [ -1.,  -1.,   0.,  -1.,  -1.,  -1.,  -1., 150.,  -1.],\n",
       "        [ -1.,  -1.,  -1.,  -1.,  -1.,   0.,  -1.,  -1.,  -1.]])"
      ]
     },
     "execution_count": 120,
     "metadata": {},
     "output_type": "execute_result"
    }
   ],
   "source": [
    "R[goal,goal]= 150\n",
    "R"
   ]
  },
  {
   "cell_type": "code",
   "execution_count": 121,
   "id": "2c58f0c7",
   "metadata": {},
   "outputs": [
    {
     "name": "stdout",
     "output_type": "stream",
     "text": [
      "[[0. 0. 0. 0. 0. 0. 0. 0. 0.]\n",
      " [0. 0. 0. 0. 0. 0. 0. 0. 0.]\n",
      " [0. 0. 0. 0. 0. 0. 0. 0. 0.]\n",
      " [0. 0. 0. 0. 0. 0. 0. 0. 0.]\n",
      " [0. 0. 0. 0. 0. 0. 0. 0. 0.]\n",
      " [0. 0. 0. 0. 0. 0. 0. 0. 0.]\n",
      " [0. 0. 0. 0. 0. 0. 0. 0. 0.]\n",
      " [0. 0. 0. 0. 0. 0. 0. 0. 0.]\n",
      " [0. 0. 0. 0. 0. 0. 0. 0. 0.]]\n"
     ]
    }
   ],
   "source": [
    "# Q matrix\n",
    "Q = np.matrix (np.zeros([NO_OF_POINTS,NO_OF_POINTS]))\n",
    "print(Q)\n",
    "# Gamma (learning parameter)\n",
    "gamma = 0.8\n",
    "# Initial state (Usually to be chosen at random)\n",
    "initial_state = 1"
   ]
  },
  {
   "cell_type": "code",
   "execution_count": 122,
   "id": "8c774ed3",
   "metadata": {},
   "outputs": [
    {
     "name": "stdout",
     "output_type": "stream",
     "text": [
      "[2 5]\n",
      "2\n"
     ]
    }
   ],
   "source": [
    "# This function returns all available actions in the state given as # an argument\n",
    "def available_actions(state):\n",
    "    current_state_row = R[state,]\n",
    "    av_act = np.where(current_state_row >= 0)[1]\n",
    "    return av_act\n",
    "# Get available actions in the current state\n",
    "available_act = available_actions(initial_state)\n",
    "# This function chooses at random which action to be performed within the range of all the available actions\n",
    "def sample_next_action(available_actions_range):\n",
    "    next_action = int(np.random.choice(available_act,1))\n",
    "    return next_action\n",
    "# Sample next action to be performed\n",
    "action = sample_next_action(available_act)\n",
    "print(available_act)\n",
    "print(action)"
   ]
  },
  {
   "cell_type": "code",
   "execution_count": 123,
   "id": "5e4dc26d",
   "metadata": {},
   "outputs": [
    {
     "name": "stdout",
     "output_type": "stream",
     "text": [
      "[[0. 0. 0. 0. 0. 0. 0. 0. 0.]\n",
      " [0. 0. 0. 0. 0. 0. 0. 0. 0.]\n",
      " [0. 0. 0. 0. 0. 0. 0. 0. 0.]\n",
      " [0. 0. 0. 0. 0. 0. 0. 0. 0.]\n",
      " [0. 0. 0. 0. 0. 0. 0. 0. 0.]\n",
      " [0. 0. 0. 0. 0. 0. 0. 0. 0.]\n",
      " [0. 0. 0. 0. 0. 0. 0. 0. 0.]\n",
      " [0. 0. 0. 0. 0. 0. 0. 0. 0.]\n",
      " [0. 0. 0. 0. 0. 0. 0. 0. 0.]]\n"
     ]
    }
   ],
   "source": [
    "# This function updates the Q matrix according to the path selected and the Q learning algorithm\n",
    "def update(current_state, action, gamma):  \n",
    "    max_index = np.where(Q[action,] == np.max(Q[action,]))[1]\n",
    "    if max_index.shape[0] > 1:\n",
    "        max_index = int(np.random.choice(max_index, size = 1))\n",
    "    else:\n",
    "        max_index = int(max_index)\n",
    "    max_value = Q[action, max_index]   \n",
    "    Q[current_state, action] = R[current_state, action] + gamma * max_value\n",
    "update(initial_state,action,gamma)\n",
    "print(Q)"
   ]
  },
  {
   "cell_type": "code",
   "execution_count": 124,
   "id": "2f797745",
   "metadata": {},
   "outputs": [
    {
     "name": "stdout",
     "output_type": "stream",
     "text": [
      "[[  0.    0.    0.  480.    0.    0.    0.    0.    0. ]\n",
      " [  0.    0.  600.    0.    0.  384.    0.    0.    0. ]\n",
      " [  0.  480.    0.  480.    0.    0.    0.  750.    0. ]\n",
      " [384.    0.  600.    0.    0.    0.  384.    0.    0. ]\n",
      " [  0.    0.    0.    0.    0.  384.    0.    0.    0. ]\n",
      " [  0.  480.    0.    0.  307.2   0.    0.    0.  307.2]\n",
      " [  0.    0.    0.  480.    0.    0.    0.    0.    0. ]\n",
      " [  0.    0.  600.    0.    0.    0.    0.  750.    0. ]\n",
      " [  0.    0.    0.    0.    0.  384.    0.    0.    0. ]]\n"
     ]
    }
   ],
   "source": [
    "# Train over 10 000 iterations(Re-iterate the # process above)\n",
    "for i in range(10000):\n",
    "    current_state = np.random.randint(0, int(Q.shape[0]))\n",
    "    available_act = available_actions(current_state)\n",
    "    action = sample_next_action(available_act)\n",
    "    update(current_state,action,gamma)\n",
    "print(Q)"
   ]
  },
  {
   "cell_type": "code",
   "execution_count": 125,
   "id": "11225d0f",
   "metadata": {},
   "outputs": [
    {
     "name": "stdout",
     "output_type": "stream",
     "text": [
      "Trained Q matrix:\n",
      "[[  0.     0.     0.    64.     0.     0.     0.     0.     0.  ]\n",
      " [  0.     0.    80.     0.     0.    51.2    0.     0.     0.  ]\n",
      " [  0.    64.     0.    64.     0.     0.     0.   100.     0.  ]\n",
      " [ 51.2    0.    80.     0.     0.     0.    51.2    0.     0.  ]\n",
      " [  0.     0.     0.     0.     0.    51.2    0.     0.     0.  ]\n",
      " [  0.    64.     0.     0.    40.96   0.     0.     0.    40.96]\n",
      " [  0.     0.     0.    64.     0.     0.     0.     0.     0.  ]\n",
      " [  0.     0.    80.     0.     0.     0.     0.   100.     0.  ]\n",
      " [  0.     0.     0.     0.     0.    51.2    0.     0.     0.  ]]\n"
     ]
    }
   ],
   "source": [
    "# Normalize the \"trained\" Q matrix\n",
    "print(\"Trained Q matrix:\")\n",
    "print(Q/np.max(Q)*100)"
   ]
  },
  {
   "cell_type": "code",
   "execution_count": 126,
   "id": "faa93f51",
   "metadata": {},
   "outputs": [
    {
     "name": "stdout",
     "output_type": "stream",
     "text": [
      "Enter Current state:\n",
      "                                            0: Kochi\n",
      "                                            1: Ahemedabad\n",
      "                                            2: Mumbai\n",
      "                                            3: Bengaluru\n",
      "                                            4: Punjab\n",
      "                                            5: Delhi\n",
      "                                            6: Chennai\n",
      "                                            7: Hyderabad\n",
      "                                            8: Kolkata\n",
      "                                      0\n",
      "Selected path to reach Hyderabad:\n",
      "[0, 3, 2, 7]\n"
     ]
    }
   ],
   "source": [
    "current_state = int(input('''Enter Current state:\n",
    "                                            0: Kochi\n",
    "                                            1: Ahemedabad\n",
    "                                            2: Mumbai\n",
    "                                            3: Bengaluru\n",
    "                                            4: Punjab\n",
    "                                            5: Delhi\n",
    "                                            6: Chennai\n",
    "                                            7: Hyderabad\n",
    "                                            8: Kolkata\n",
    "                                      '''))\n",
    "steps = [current_state]\n",
    "while current_state != goal:\n",
    "    next_step_index = np.where(Q[current_state,] == np.max(Q[current_state,]))[1]\n",
    "    if next_step_index.shape[0] > 1:\n",
    "        next_step_index = int(np.random.choice(next_step_index, size=1))\n",
    "    else:\n",
    "        next_step_index = int(next_step_index)\n",
    "    steps.append(next_step_index)\n",
    "    current_state = next_step_index\n",
    "# Print selected sequence of steps\n",
    "print(\"Selected path to reach Hyderabad:\")\n",
    "print(steps)"
   ]
  },
  {
   "cell_type": "code",
   "execution_count": null,
   "id": "f3630456",
   "metadata": {},
   "outputs": [],
   "source": []
  }
 ],
 "metadata": {
  "kernelspec": {
   "display_name": "Python 3 (ipykernel)",
   "language": "python",
   "name": "python3"
  },
  "language_info": {
   "codemirror_mode": {
    "name": "ipython",
    "version": 3
   },
   "file_extension": ".py",
   "mimetype": "text/x-python",
   "name": "python",
   "nbconvert_exporter": "python",
   "pygments_lexer": "ipython3",
   "version": "3.9.7"
  }
 },
 "nbformat": 4,
 "nbformat_minor": 5
}
